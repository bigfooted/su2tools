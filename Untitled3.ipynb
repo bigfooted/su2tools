{
 "cells": [
  {
   "cell_type": "code",
   "execution_count": 11,
   "metadata": {},
   "outputs": [
    {
     "data": {
      "text/latex": [
       "\\[\\tag{${\\it \\%o}_{2}$}\\left(u+T\\,\\cos a\\right)^2+T^2\\,\\sin ^2a=\\left(\\left(\\frac{\\mu}{m}+1\\right)\\,\\left(\\frac{-\\mu\\,x^2-\\frac{m^3\\,\\left(u-x\\right)^2}{\\mu^2}+\\mu\\,u^2}{\\frac{\\mu^2}{m}+\\mu}\\right)^{0.5}+T\\,\\sin a\\right)^2+\\left(-x+\\frac{\\mu\\,\\left(u-x\\right)}{m}+T\\,\\cos a\\right)^2\\]"
      ],
      "text/plain": [
       "                    2    2    2\n",
       "(%o2) (u + T cos(a))  + T  sin (a) = \n",
       "                        3        2\n",
       "                  2    m  (u - x)        2\n",
       "           (- mu x ) - ----------- + mu u\n",
       "                             2\n",
       "  mu                       mu              0.5            2\n",
       "((-- + 1) (-------------------------------)    + T sin(a))\n",
       "  m                     2\n",
       "                      mu\n",
       "                      --- + mu\n",
       "                       m\n",
       "            mu (u - x)            2\n",
       " + ((- x) + ---------- + T cos(a))\n",
       "                m"
      ],
      "text/x-maxima": [
       "(u+T*cos(a))^2+T^2*sin(a)^2 = ((mu/m+1)*(((-mu*x^2)-(m^3*(u-x)^2)/mu^2+mu*u^2)\n",
       "                                        /(mu^2/m+mu))\n",
       "                                        ^0.5\n",
       "                            +T*sin(a))\n",
       "                            ^2\n",
       "                            +((-x)+(mu*(u-x))/m+T*cos(a))^2"
      ]
     },
     "execution_count": 11,
     "metadata": {},
     "output_type": "execute_result"
    }
   ],
   "source": [
    "expr : (T*sin(a))**2+(u+T*cos(a))**2 = ((1+mu/m)*((mu*u**2 - mu*x**2 - m*((u-x)*m/mu)**2) / (mu+mu**2/m))**0.5+T*sin(a))**2+(T*cos(a)+(u-x)*mu/m-x)**2;"
   ]
  },
  {
   "cell_type": "code",
   "execution_count": 14,
   "metadata": {},
   "outputs": [
    {
     "data": {
      "text/latex": [
       "\\[\\tag{${\\it \\%o}_{4}$}\\left(u+T\\,\\cos a\\right)^2+T^2\\,\\sin ^2a\\]"
      ],
      "text/plain": [
       "                                       2    2    2\n",
       "(%o4)                    (u + T cos(a))  + T  sin (a)"
      ],
      "text/x-maxima": [
       "(u+T*cos(a))^2+T^2*sin(a)^2"
      ]
     },
     "execution_count": 14,
     "metadata": {},
     "output_type": "execute_result"
    }
   ],
   "source": [
    "lhs:(T*sin(a))**2+(u+T*cos(a))**2;"
   ]
  },
  {
   "cell_type": "code",
   "execution_count": 8,
   "metadata": {},
   "outputs": [
    {
     "name": "stderr",
     "output_type": "stream",
     "text": [
      "incorrect syntax: m is not an infix operator\n",
      "(μu^2-μx^2-m((u-x)m/\n",
      "                  ^\n"
     ]
    }
   ],
   "source": [
    "( (1+μ/m)((μu^2-μx^2-m((u-x)m/μ)^2)/(μ+μ^2/m))^0.5+Tsinα)^2+(Tcosα+(u-x)μ/m-x)^2"
   ]
  },
  {
   "cell_type": "code",
   "execution_count": 15,
   "metadata": {},
   "outputs": [
    {
     "data": {
      "text/latex": [
       "\\[\\tag{${\\it \\%o}_{5}$}\\left(\\left(\\frac{\\mu}{m}+1\\right)\\,\\left(\\frac{-\\mu\\,x^2-\\frac{m^3\\,\\left(u-x\\right)^2}{\\mu^2}+\\mu\\,u^2}{\\frac{\\mu^2}{m}+\\mu}\\right)^{0.5}+T\\,\\sin a\\right)^2\\]"
      ],
      "text/plain": [
       "                                  3        2\n",
       "                            2    m  (u - x)        2\n",
       "                     (- mu x ) - ----------- + mu u\n",
       "                                       2\n",
       "            mu                       mu              0.5            2\n",
       "(%o5)     ((-- + 1) (-------------------------------)    + T sin(a))\n",
       "            m                     2\n",
       "                                mu\n",
       "                                --- + mu\n",
       "                                 m"
      ],
      "text/x-maxima": [
       "((mu/m+1)*(((-mu*x^2)-(m^3*(u-x)^2)/mu^2+mu*u^2)/(mu^2/m+mu))^0.5+T*sin(a))^2"
      ]
     },
     "execution_count": 15,
     "metadata": {},
     "output_type": "execute_result"
    }
   ],
   "source": [
    "rhs1:((1+mu/m)*((mu*u**2 - mu*x**2 - m*((u-x)*m/mu)**2) / (mu+mu**2/m))**0.5+T*sin(a))**2;"
   ]
  },
  {
   "cell_type": "code",
   "execution_count": 16,
   "metadata": {},
   "outputs": [
    {
     "data": {
      "text/latex": [
       "\\[\\tag{${\\it \\%o}_{6}$}\\left(-x+\\frac{\\mu\\,\\left(u-x\\right)}{m}+T\\,\\cos a\\right)^2\\]"
      ],
      "text/plain": [
       "                                mu (u - x)            2\n",
       "(%o6)                  ((- x) + ---------- + T cos(a))\n",
       "                                    m"
      ],
      "text/x-maxima": [
       "((-x)+(mu*(u-x))/m+T*cos(a))^2"
      ]
     },
     "execution_count": 16,
     "metadata": {},
     "output_type": "execute_result"
    }
   ],
   "source": [
    "rhs2:(T*cos(a)+(u-x)*mu/m-x)**2;"
   ]
  },
  {
   "cell_type": "code",
   "execution_count": 17,
   "metadata": {},
   "outputs": [
    {
     "data": {
      "text/latex": [
       "\\[\\tag{${\\it \\%o}_{7}$}\\left| x-\\frac{\\mu\\,\\left(u-x\\right)}{m}-T\\,\\cos a\\right| \\]"
      ],
      "text/plain": [
       "                          !    mu (u - x)           !\n",
       "(%o7)                     !x - ---------- - T cos(a)!\n",
       "                          !        m                !"
      ],
      "text/x-maxima": [
       "abs(x-(mu*(u-x))/m-T*cos(a))"
      ]
     },
     "execution_count": 17,
     "metadata": {},
     "output_type": "execute_result"
    }
   ],
   "source": [
    "sqrt(rhs2);"
   ]
  },
  {
   "cell_type": "code",
   "execution_count": 18,
   "metadata": {},
   "outputs": [
    {
     "data": {
      "text/latex": [
       "\\[\\tag{${\\it \\%o}_{8}$}\\left| \\left(\\frac{\\mu}{m}+1\\right)\\,\\left(\\frac{-\\mu\\,x^2-\\frac{m^3\\,\\left(u-x\\right)^2}{\\mu^2}+\\mu\\,u^2}{\\frac{\\mu^2}{m}+\\mu}\\right)^{0.5}+T\\,\\sin a\\right| \\]"
      ],
      "text/plain": [
       "          !                       3        2                       !\n",
       "          !                 2    m  (u - x)        2               !\n",
       "          !          (- mu x ) - ----------- + mu u                !\n",
       "          !                            2                           !\n",
       "          ! mu                       mu              0.5           !\n",
       "(%o8)     !(-- + 1) (-------------------------------)    + T sin(a)!\n",
       "          ! m                     2                                !\n",
       "          !                     mu                                 !\n",
       "          !                     --- + mu                           !\n",
       "          !                      m                                 !"
      ],
      "text/x-maxima": [
       "abs((mu/m+1)*(((-mu*x^2)-(m^3*(u-x)^2)/mu^2+mu*u^2)/(mu^2/m+mu))^0.5+T*sin(a))"
      ]
     },
     "execution_count": 18,
     "metadata": {},
     "output_type": "execute_result"
    }
   ],
   "source": [
    "sqrt(rhs1);"
   ]
  },
  {
   "cell_type": "code",
   "execution_count": 19,
   "metadata": {},
   "outputs": [
    {
     "data": {
      "text/latex": [
       "\\[\\tag{${\\it \\%o}_{9}$}\\sqrt{\\left(u+T\\,\\cos a\\right)^2+T^2\\,\\sin ^2a}\\]"
      ],
      "text/plain": [
       "                                         2    2    2\n",
       "(%o9)                 sqrt((u + T cos(a))  + T  sin (a))"
      ],
      "text/x-maxima": [
       "sqrt((u+T*cos(a))^2+T^2*sin(a)^2)"
      ]
     },
     "execution_count": 19,
     "metadata": {},
     "output_type": "execute_result"
    }
   ],
   "source": [
    "sqrt(lhs);"
   ]
  },
  {
   "cell_type": "code",
   "execution_count": 21,
   "metadata": {},
   "outputs": [
    {
     "data": {
      "text/latex": [
       "\\[\\tag{${\\it \\%o}_{11}$}-\\left| \\left(\\frac{\\mu}{m}+1\\right)\\,\\left(\\frac{-\\mu\\,x^2-\\frac{m^3\\,\\left(u-x\\right)^2}{\\mu^2}+\\mu\\,u^2}{\\frac{\\mu^2}{m}+\\mu}\\right)^{0.5}+T\\,\\sin a\\right| -\\left| x-\\frac{\\mu\\,\\left(u-x\\right)}{m}-T\\,\\cos a\\right| +\\sqrt{\\left(u+T\\,\\cos a\\right)^2+T^2\\,\\sin ^2a}\\]"
      ],
      "text/plain": [
       "          !                       3        2                       !\n",
       "          !                 2    m  (u - x)        2               !\n",
       "          !          (- mu x ) - ----------- + mu u                !\n",
       "          !                            2                           !\n",
       "          ! mu                       mu              0.5           !\n",
       "(%o11) (- !(-- + 1) (-------------------------------)    + T sin(a)!)\n",
       "          ! m                     2                                !\n",
       "          !                     mu                                 !\n",
       "          !                     --- + mu                           !\n",
       "          !                      m                                 !\n",
       "               !    mu (u - x)           !                      2    2    2\n",
       "             - !x - ---------- - T cos(a)! + sqrt((u + T cos(a))  + T  sin (a))\n",
       "               !        m                !"
      ],
      "text/x-maxima": [
       "(-abs((mu/m+1)*(((-mu*x^2)-(m^3*(u-x)^2)/mu^2+mu*u^2)/(mu^2/m+mu))^0.5\n",
       "       +T*sin(a)))\n",
       " -abs(x-(mu*(u-x))/m-T*cos(a))+sqrt((u+T*cos(a))^2+T^2*sin(a)^2)"
      ]
     },
     "execution_count": 21,
     "metadata": {},
     "output_type": "execute_result"
    }
   ],
   "source": [
    "expr:sqrt(lhs)-sqrt(rhs1)-sqrt(rhs2);"
   ]
  },
  {
   "cell_type": "code",
   "execution_count": 23,
   "metadata": {},
   "outputs": [
    {
     "name": "stdout",
     "output_type": "stream",
     "text": [
      "\n",
      "rat: replaced 0.5 by 1/2 = 0.5\n"
     ]
    },
    {
     "data": {
      "text/latex": [
       "\\[\\tag{${\\it \\%o}_{12}$}\\left[ \\frac{\\left| \\left(\\mu+m\\right)\\,x-\\mu\\,u-T\\,\\cos a\\,m\\right| }{\\left| m\\right| }=\\sqrt{u^2+2\\,T\\,\\cos a\\,u+T^2\\,\\sin ^2a+T^2\\,\\cos ^2a}-\\frac{\\left| \\left(\\mu+m\\right)\\,\\sqrt{-\\frac{\\left(m\\,\\mu^3+m^4\\right)\\,x^2-2\\,m^4\\,u\\,x+\\left(m^4-m\\,\\mu^3\\right)\\,u^2}{\\mu^4+m\\,\\mu^3}}+T\\,\\sin a\\,m\\right| }{\\left| m\\right| } \\right] \\]"
      ],
      "text/plain": [
       "        abs((mu + m) x - mu u - T cos(a) m)\n",
       "(%o12) [----------------------------------- = \n",
       "                      abs(m)\n",
       "      2                   2    2       2    2\n",
       "sqrt(u  + 2 T cos(a) u + T  sin (a) + T  cos (a))\n",
       "   !                     3    4   2      4         4       3   2              !\n",
       "   !                (m mu  + m ) x  - 2 m  u x + (m  - m mu ) u               !\n",
       " - !(mu + m) sqrt(- --------------------------------------------) + T sin(a) m!\n",
       "   !                                  4       3                               !\n",
       "   !                                mu  + m mu                                !\n",
       "/abs(m)]"
      ],
      "text/x-maxima": [
       "[abs((mu+m)*x-mu*u-T*cos(a)*m)/abs(m) = sqrt(\n",
       "                                      u^2+2*T*cos(a)*u+T^2*sin(a)^2\n",
       "                                         +T^2*cos(a)^2)\n",
       "                                      -abs(\n",
       "                                       (mu+m)\n",
       "                                        *sqrt(\n",
       "                                         -((m*mu^3+m^4)*x^2-2*m^4*u*x\n",
       "                                                           +(m^4-m*mu^3)*u^2)\n",
       "                                          /(mu^4+m*mu^3))\n",
       "                                        +T*sin(a)*m)\n",
       "                                       /abs(m)]"
      ]
     },
     "execution_count": 23,
     "metadata": {},
     "output_type": "execute_result"
    }
   ],
   "source": [
    "solve(expr,x);"
   ]
  },
  {
   "cell_type": "code",
   "execution_count": null,
   "metadata": {},
   "outputs": [],
   "source": []
  }
 ],
 "metadata": {
  "kernelspec": {
   "display_name": "Maxima",
   "language": "maxima",
   "name": "maxima"
  },
  "language_info": {
   "codemirror_mode": "maxima",
   "file_extension": ".mac",
   "mimetype": "text/x-maxima",
   "name": "maxima",
   "pygments_lexer": "maxima",
   "version": "5.43.0"
  }
 },
 "nbformat": 4,
 "nbformat_minor": 4
}
