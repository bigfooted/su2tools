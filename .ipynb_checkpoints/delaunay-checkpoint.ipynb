{
 "cells": [
  {
   "cell_type": "code",
   "execution_count": 1,
   "metadata": {},
   "outputs": [
    {
     "name": "stderr",
     "output_type": "stream",
     "text": [
      "WARNING:root:meshio does not support tags of string type.\n",
      "    Surface tag  inlet_air will be replaced by 1\n",
      "WARNING:root:meshio does not support tags of string type.\n",
      "    Surface tag  inlet_gas will be replaced by 2\n",
      "WARNING:root:meshio does not support tags of string type.\n",
      "    Surface tag  wall will be replaced by 3\n",
      "WARNING:root:meshio does not support tags of string type.\n",
      "    Surface tag  symmetry will be replaced by 4\n",
      "WARNING:root:meshio does not support tags of string type.\n",
      "    Surface tag  outlet will be replaced by 5\n"
     ]
    }
   ],
   "source": [
    "import meshio\n",
    "#import pygalmesh\n",
    "mesh = meshio.read(\"/home/nijso/venturi_coarse.su2\")\n",
    "# mesh.points, mesh.cells, mesh.point_data, ...\n",
    "import matplotlib.pyplot as plt\n",
    "import numpy as np\n",
    "import triangle as tr"
   ]
  },
  {
   "cell_type": "code",
   "execution_count": 2,
   "metadata": {},
   "outputs": [
    {
     "data": {
      "text/plain": [
       "<meshio mesh object>\n",
       "  Number of points: 455\n",
       "  Number of cells:\n",
       "    quad: 397\n",
       "    line: 114\n",
       "  Cell data: su2:tag"
      ]
     },
     "execution_count": 2,
     "metadata": {},
     "output_type": "execute_result"
    }
   ],
   "source": [
    "mesh"
   ]
  },
  {
   "cell_type": "code",
   "execution_count": 3,
   "metadata": {},
   "outputs": [
    {
     "data": {
      "text/plain": [
       "['__class__',\n",
       " '__delattr__',\n",
       " '__dict__',\n",
       " '__dir__',\n",
       " '__doc__',\n",
       " '__eq__',\n",
       " '__format__',\n",
       " '__ge__',\n",
       " '__getattribute__',\n",
       " '__gt__',\n",
       " '__hash__',\n",
       " '__init__',\n",
       " '__init_subclass__',\n",
       " '__le__',\n",
       " '__lt__',\n",
       " '__module__',\n",
       " '__ne__',\n",
       " '__new__',\n",
       " '__reduce__',\n",
       " '__reduce_ex__',\n",
       " '__repr__',\n",
       " '__setattr__',\n",
       " '__sizeof__',\n",
       " '__str__',\n",
       " '__subclasshook__',\n",
       " '__weakref__',\n",
       " 'cell_data',\n",
       " 'cell_data_dict',\n",
       " 'cell_sets',\n",
       " 'cell_sets_dict',\n",
       " 'cells',\n",
       " 'cells_dict',\n",
       " 'field_data',\n",
       " 'get_cell_data',\n",
       " 'get_cells_type',\n",
       " 'gmsh_periodic',\n",
       " 'info',\n",
       " 'int_data_to_sets',\n",
       " 'point_data',\n",
       " 'point_sets',\n",
       " 'points',\n",
       " 'prune',\n",
       " 'prune_z_0',\n",
       " 'read',\n",
       " 'remove_lower_dimensional_cells',\n",
       " 'remove_orphaned_nodes',\n",
       " 'sets_to_int_data',\n",
       " 'write']"
      ]
     },
     "execution_count": 3,
     "metadata": {},
     "output_type": "execute_result"
    }
   ],
   "source": [
    "dir(mesh)"
   ]
  },
  {
   "cell_type": "code",
   "execution_count": 4,
   "metadata": {},
   "outputs": [
    {
     "data": {
      "text/plain": [
       "['__add__',\n",
       " '__class__',\n",
       " '__contains__',\n",
       " '__delattr__',\n",
       " '__delitem__',\n",
       " '__dir__',\n",
       " '__doc__',\n",
       " '__eq__',\n",
       " '__format__',\n",
       " '__ge__',\n",
       " '__getattribute__',\n",
       " '__getitem__',\n",
       " '__gt__',\n",
       " '__hash__',\n",
       " '__iadd__',\n",
       " '__imul__',\n",
       " '__init__',\n",
       " '__init_subclass__',\n",
       " '__iter__',\n",
       " '__le__',\n",
       " '__len__',\n",
       " '__lt__',\n",
       " '__mul__',\n",
       " '__ne__',\n",
       " '__new__',\n",
       " '__reduce__',\n",
       " '__reduce_ex__',\n",
       " '__repr__',\n",
       " '__reversed__',\n",
       " '__rmul__',\n",
       " '__setattr__',\n",
       " '__setitem__',\n",
       " '__sizeof__',\n",
       " '__str__',\n",
       " '__subclasshook__',\n",
       " 'append',\n",
       " 'clear',\n",
       " 'copy',\n",
       " 'count',\n",
       " 'extend',\n",
       " 'index',\n",
       " 'insert',\n",
       " 'pop',\n",
       " 'remove',\n",
       " 'reverse',\n",
       " 'sort']"
      ]
     },
     "execution_count": 4,
     "metadata": {},
     "output_type": "execute_result"
    }
   ],
   "source": [
    "dir(mesh.cells)"
   ]
  },
  {
   "cell_type": "code",
   "execution_count": 5,
   "metadata": {},
   "outputs": [
    {
     "data": {
      "text/plain": [
       "['__class__',\n",
       " '__delattr__',\n",
       " '__dict__',\n",
       " '__dir__',\n",
       " '__doc__',\n",
       " '__eq__',\n",
       " '__format__',\n",
       " '__ge__',\n",
       " '__getattribute__',\n",
       " '__gt__',\n",
       " '__hash__',\n",
       " '__init__',\n",
       " '__init_subclass__',\n",
       " '__le__',\n",
       " '__lt__',\n",
       " '__module__',\n",
       " '__ne__',\n",
       " '__new__',\n",
       " '__reduce__',\n",
       " '__reduce_ex__',\n",
       " '__repr__',\n",
       " '__setattr__',\n",
       " '__sizeof__',\n",
       " '__str__',\n",
       " '__subclasshook__',\n",
       " '__weakref__',\n",
       " 'cell_data',\n",
       " 'cell_data_dict',\n",
       " 'cell_sets',\n",
       " 'cell_sets_dict',\n",
       " 'cells',\n",
       " 'cells_dict',\n",
       " 'field_data',\n",
       " 'get_cell_data',\n",
       " 'get_cells_type',\n",
       " 'gmsh_periodic',\n",
       " 'info',\n",
       " 'int_data_to_sets',\n",
       " 'point_data',\n",
       " 'point_sets',\n",
       " 'points',\n",
       " 'prune',\n",
       " 'prune_z_0',\n",
       " 'read',\n",
       " 'remove_lower_dimensional_cells',\n",
       " 'remove_orphaned_nodes',\n",
       " 'sets_to_int_data',\n",
       " 'write']"
      ]
     },
     "execution_count": 5,
     "metadata": {},
     "output_type": "execute_result"
    }
   ],
   "source": [
    "dir(mesh)"
   ]
  },
  {
   "cell_type": "code",
   "execution_count": 6,
   "metadata": {},
   "outputs": [
    {
     "data": {
      "text/plain": [
       "{}"
      ]
     },
     "execution_count": 6,
     "metadata": {},
     "output_type": "execute_result"
    }
   ],
   "source": [
    "mesh.point_data"
   ]
  },
  {
   "cell_type": "code",
   "execution_count": 7,
   "metadata": {},
   "outputs": [
    {
     "data": {
      "text/plain": [
       "{'su2:tag': [array([0, 0, 0, 0, 0, 0, 0, 0, 0, 0, 0, 0, 0, 0, 0, 0, 0, 0, 0, 0, 0, 0,\n",
       "         0, 0, 0, 0, 0, 0, 0, 0, 0, 0, 0, 0, 0, 0, 0, 0, 0, 0, 0, 0, 0, 0,\n",
       "         0, 0, 0, 0, 0, 0, 0, 0, 0, 0, 0, 0, 0, 0, 0, 0, 0, 0, 0, 0, 0, 0,\n",
       "         0, 0, 0, 0, 0, 0, 0, 0, 0, 0, 0, 0, 0, 0, 0, 0, 0, 0, 0, 0, 0, 0,\n",
       "         0, 0, 0, 0, 0, 0, 0, 0, 0, 0, 0, 0, 0, 0, 0, 0, 0, 0, 0, 0, 0, 0,\n",
       "         0, 0, 0, 0, 0, 0, 0, 0, 0, 0, 0, 0, 0, 0, 0, 0, 0, 0, 0, 0, 0, 0,\n",
       "         0, 0, 0, 0, 0, 0, 0, 0, 0, 0, 0, 0, 0, 0, 0, 0, 0, 0, 0, 0, 0, 0,\n",
       "         0, 0, 0, 0, 0, 0, 0, 0, 0, 0, 0, 0, 0, 0, 0, 0, 0, 0, 0, 0, 0, 0,\n",
       "         0, 0, 0, 0, 0, 0, 0, 0, 0, 0, 0, 0, 0, 0, 0, 0, 0, 0, 0, 0, 0, 0,\n",
       "         0, 0, 0, 0, 0, 0, 0, 0, 0, 0, 0, 0, 0, 0, 0, 0, 0, 0, 0, 0, 0, 0,\n",
       "         0, 0, 0, 0, 0, 0, 0, 0, 0, 0, 0, 0, 0, 0, 0, 0, 0, 0, 0, 0, 0, 0,\n",
       "         0, 0, 0, 0, 0, 0, 0, 0, 0, 0, 0, 0, 0, 0, 0, 0, 0, 0, 0, 0, 0, 0,\n",
       "         0, 0, 0, 0, 0, 0, 0, 0, 0, 0, 0, 0, 0, 0, 0, 0, 0, 0, 0, 0, 0, 0,\n",
       "         0, 0, 0, 0, 0, 0, 0, 0, 0, 0, 0, 0, 0, 0, 0, 0, 0, 0, 0, 0, 0, 0,\n",
       "         0, 0, 0, 0, 0, 0, 0, 0, 0, 0, 0, 0, 0, 0, 0, 0, 0, 0, 0, 0, 0, 0,\n",
       "         0, 0, 0, 0, 0, 0, 0, 0, 0, 0, 0, 0, 0, 0, 0, 0, 0, 0, 0, 0, 0, 0,\n",
       "         0, 0, 0, 0, 0, 0, 0, 0, 0, 0, 0, 0, 0, 0, 0, 0, 0, 0, 0, 0, 0, 0,\n",
       "         0, 0, 0, 0, 0, 0, 0, 0, 0, 0, 0, 0, 0, 0, 0, 0, 0, 0, 0, 0, 0, 0,\n",
       "         0], dtype=int32),\n",
       "  array([1, 1, 1, 1, 1, 1, 1, 1, 1, 2, 2, 2, 2, 3, 3, 3, 3, 3, 3, 3, 3, 3,\n",
       "         3, 3, 3, 3, 3, 3, 3, 3, 3, 3, 3, 3, 3, 3, 3, 3, 3, 3, 3, 3, 3, 3,\n",
       "         3, 3, 3, 3, 3, 3, 3, 3, 3, 3, 3, 3, 3, 3, 3, 3, 3, 3, 3, 3, 4, 4,\n",
       "         4, 4, 4, 4, 4, 4, 4, 4, 4, 4, 4, 4, 4, 4, 4, 4, 4, 4, 4, 4, 4, 4,\n",
       "         4, 4, 4, 4, 4, 4, 4, 4, 4, 4, 4, 4, 4, 4, 4, 4, 4, 5, 5, 5, 5, 5,\n",
       "         5, 5, 5, 5], dtype=int32)]}"
      ]
     },
     "execution_count": 7,
     "metadata": {},
     "output_type": "execute_result"
    }
   ],
   "source": [
    "mesh.cell_data"
   ]
  },
  {
   "cell_type": "code",
   "execution_count": 9,
   "metadata": {},
   "outputs": [],
   "source": [
    "x,y = mesh.points.T"
   ]
  },
  {
   "cell_type": "code",
   "execution_count": 10,
   "metadata": {},
   "outputs": [
    {
     "data": {
      "text/plain": [
       "<matplotlib.collections.PathCollection at 0x7f9e7f06d310>"
      ]
     },
     "execution_count": 10,
     "metadata": {},
     "output_type": "execute_result"
    },
    {
     "data": {
      "image/png": "[encoded data removed]",
      "text/plain": [
       "<Figure size 432x288 with 1 Axes>"
      ]
     },
     "metadata": {
      "needs_background": "light"
     },
     "output_type": "display_data"
    }
   ],
   "source": [
    "plt.scatter(x,y)"
   ]
  },
  {
   "cell_type": "code",
   "execution_count": null,
   "metadata": {},
   "outputs": [],
   "source": [
    "constraints = ["
   ]
  },
  {
   "cell_type": "code",
   "execution_count": null,
   "metadata": {},
   "outputs": [],
   "source": [
    "mesh = pygalmesh.generate_2d(\n",
    "    mesh.points,\n",
    "    constraints,\n",
    "    max_edge_size=1.0e-1,\n",
    "    num_lloyd_steps=10,\n",
    ")"
   ]
  },
  {
   "cell_type": "code",
   "execution_count": 23,
   "metadata": {},
   "outputs": [
    {
     "data": {
      "image/png": "[encoded data removed]",
      "text/plain": [
       "<Figure size 432x216 with 2 Axes>"
      ]
     },
     "metadata": {
      "needs_background": "light"
     },
     "output_type": "display_data"
    }
   ],
   "source": [
    "import matplotlib.pyplot as plt\n",
    "import numpy as np\n",
    "\n",
    "import triangle as tr\n",
    "\n",
    "# arrays to fill in with input\n",
    "vertices = []\n",
    "segments = []\n",
    "regions = []\n",
    "\n",
    "# make a box with given dims and place given attribute at its center\n",
    "def make_box(x, y, w, h, attribute):\n",
    "\n",
    "    i = len(vertices)\n",
    "    \n",
    "    vertices.extend([[x,   y],\n",
    "                     [x+w, y],\n",
    "                     [x+w, y+h],\n",
    "                     [x,   y+h]])\n",
    "\n",
    "    segments.extend([(i+0, i+1),\n",
    "                     (i+1, i+2),\n",
    "                     (i+2, i+3),\n",
    "                     (i+3, i+0)])\n",
    "    \n",
    "    regions.append([x+0.5*w, y+0.5*h, attribute, 0])\n",
    "\n",
    "# generate some input    \n",
    "make_box(0, 0, 5, 5, 1)\n",
    "make_box(1, 1, 3, 1, 2)\n",
    "make_box(1, 3, 1, 1, 3)\n",
    "make_box(3, 3, 1, 1, 4)\n",
    "\n",
    "A = dict(vertices=vertices, segments=segments, regions=regions)\n",
    "B = tr.triangulate(A, 'pA')\n",
    "    \n",
    "tr.compare(plt, A, B)\n",
    "plt.show()\n"
   ]
  },
  {
   "cell_type": "code",
   "execution_count": 26,
   "metadata": {},
   "outputs": [
    {
     "ename": "TypeError",
     "evalue": "sequence item 0: expected str instance, CellBlock found",
     "output_type": "error",
     "traceback": [
      "\u001b[0;31m---------------------------------------------------------------------------\u001b[0m",
      "\u001b[0;31mTypeError\u001b[0m                                 Traceback (most recent call last)",
      "\u001b[0;32m<ipython-input-26-d570f351ce71>\u001b[0m in \u001b[0;36m<module>\u001b[0;34m\u001b[0m\n\u001b[1;32m      5\u001b[0m \u001b[0;31m#meshio.write_points_cells(\"/home/nijso/venturi_simple.su2\", verts, [(\"triangle\", faces)])\u001b[0m\u001b[0;34m\u001b[0m\u001b[0;34m\u001b[0m\u001b[0;34m\u001b[0m\u001b[0m\n\u001b[1;32m      6\u001b[0m \u001b[0;34m\u001b[0m\u001b[0m\n\u001b[0;32m----> 7\u001b[0;31m mesh = pygalmesh.remesh_surface(\n\u001b[0m\u001b[1;32m      8\u001b[0m     \u001b[0;34m\"/home/nijso/flow.vtu\"\u001b[0m\u001b[0;34m,\u001b[0m\u001b[0;34m\u001b[0m\u001b[0;34m\u001b[0m\u001b[0m\n\u001b[1;32m      9\u001b[0m     \u001b[0medge_size\u001b[0m\u001b[0;34m=\u001b[0m\u001b[0;36m0.025\u001b[0m\u001b[0;34m,\u001b[0m\u001b[0;34m\u001b[0m\u001b[0;34m\u001b[0m\u001b[0m\n",
      "\u001b[0;32m~/anaconda3/lib/python3.8/site-packages/pygalmesh-0.6.7-py3.8-linux-x86_64.egg/pygalmesh/main.py\u001b[0m in \u001b[0;36mremesh_surface\u001b[0;34m(filename, edge_size, facet_angle, facet_size, facet_distance, verbose, seed)\u001b[0m\n\u001b[1;32m    334\u001b[0m     \u001b[0mfh\u001b[0m\u001b[0;34m,\u001b[0m \u001b[0moff_file\u001b[0m \u001b[0;34m=\u001b[0m \u001b[0mtempfile\u001b[0m\u001b[0;34m.\u001b[0m\u001b[0mmkstemp\u001b[0m\u001b[0;34m(\u001b[0m\u001b[0msuffix\u001b[0m\u001b[0;34m=\u001b[0m\u001b[0;34m\".off\"\u001b[0m\u001b[0;34m)\u001b[0m\u001b[0;34m\u001b[0m\u001b[0;34m\u001b[0m\u001b[0m\n\u001b[1;32m    335\u001b[0m     \u001b[0mos\u001b[0m\u001b[0;34m.\u001b[0m\u001b[0mclose\u001b[0m\u001b[0;34m(\u001b[0m\u001b[0mfh\u001b[0m\u001b[0;34m)\u001b[0m\u001b[0;34m\u001b[0m\u001b[0;34m\u001b[0m\u001b[0m\n\u001b[0;32m--> 336\u001b[0;31m     \u001b[0mmeshio\u001b[0m\u001b[0;34m.\u001b[0m\u001b[0mwrite\u001b[0m\u001b[0;34m(\u001b[0m\u001b[0moff_file\u001b[0m\u001b[0;34m,\u001b[0m \u001b[0mmesh\u001b[0m\u001b[0;34m)\u001b[0m\u001b[0;34m\u001b[0m\u001b[0;34m\u001b[0m\u001b[0m\n\u001b[0m\u001b[1;32m    337\u001b[0m \u001b[0;34m\u001b[0m\u001b[0m\n\u001b[1;32m    338\u001b[0m     \u001b[0mfh\u001b[0m\u001b[0;34m,\u001b[0m \u001b[0moutfile\u001b[0m \u001b[0;34m=\u001b[0m \u001b[0mtempfile\u001b[0m\u001b[0;34m.\u001b[0m\u001b[0mmkstemp\u001b[0m\u001b[0;34m(\u001b[0m\u001b[0msuffix\u001b[0m\u001b[0;34m=\u001b[0m\u001b[0;34m\".off\"\u001b[0m\u001b[0;34m)\u001b[0m\u001b[0;34m\u001b[0m\u001b[0;34m\u001b[0m\u001b[0m\n",
      "\u001b[0;32m~/anaconda3/lib/python3.8/site-packages/meshio/_helpers.py\u001b[0m in \u001b[0;36mwrite\u001b[0;34m(filename, mesh, file_format, **kwargs)\u001b[0m\n\u001b[1;32m    145\u001b[0m \u001b[0;34m\u001b[0m\u001b[0m\n\u001b[1;32m    146\u001b[0m     \u001b[0;31m# Write\u001b[0m\u001b[0;34m\u001b[0m\u001b[0;34m\u001b[0m\u001b[0;34m\u001b[0m\u001b[0m\n\u001b[0;32m--> 147\u001b[0;31m     \u001b[0;32mreturn\u001b[0m \u001b[0mwriter\u001b[0m\u001b[0;34m(\u001b[0m\u001b[0mfilename\u001b[0m\u001b[0;34m,\u001b[0m \u001b[0mmesh\u001b[0m\u001b[0;34m,\u001b[0m \u001b[0;34m**\u001b[0m\u001b[0mkwargs\u001b[0m\u001b[0;34m)\u001b[0m\u001b[0;34m\u001b[0m\u001b[0;34m\u001b[0m\u001b[0m\n\u001b[0m",
      "\u001b[0;32m~/anaconda3/lib/python3.8/site-packages/meshio/off/_off.py\u001b[0m in \u001b[0;36mwrite\u001b[0;34m(filename, mesh)\u001b[0m\n\u001b[1;32m     66\u001b[0m     \u001b[0;32mif\u001b[0m \u001b[0mskip\u001b[0m\u001b[0;34m:\u001b[0m\u001b[0;34m\u001b[0m\u001b[0;34m\u001b[0m\u001b[0m\n\u001b[1;32m     67\u001b[0m         logging.warning(\n\u001b[0;32m---> 68\u001b[0;31m             \u001b[0;34mf'OFF only supports triangle cells. Skipping {\", \".join(skip)}.'\u001b[0m\u001b[0;34m\u001b[0m\u001b[0;34m\u001b[0m\u001b[0m\n\u001b[0m\u001b[1;32m     69\u001b[0m         )\n\u001b[1;32m     70\u001b[0m \u001b[0;34m\u001b[0m\u001b[0m\n",
      "\u001b[0;31mTypeError\u001b[0m: sequence item 0: expected str instance, CellBlock found"
     ]
    }
   ],
   "source": [
    "import pygalmesh\n",
    "\n",
    "# create verts, faces\n",
    "\n",
    "#meshio.write_points_cells(\"/home/nijso/venturi_simple.su2\", verts, [(\"triangle\", faces)])\n",
    "\n",
    "mesh = pygalmesh.remesh_surface(\n",
    "    \"/home/nijso/flow.vtu\",\n",
    "    edge_size=0.025,\n",
    "    facet_angle=25,\n",
    "    facet_size=0.1,\n",
    "    facet_distance=0.001,\n",
    "    verbose=False,\n",
    ")"
   ]
  },
  {
   "cell_type": "code",
   "execution_count": 11,
   "metadata": {},
   "outputs": [
    {
     "data": {
      "text/plain": [
       "{'su2:tag': [array([0, 0, 0, 0, 0, 0, 0, 0, 0, 0, 0, 0, 0, 0, 0, 0, 0, 0, 0, 0, 0, 0,\n",
       "         0, 0, 0, 0, 0, 0, 0, 0, 0, 0, 0, 0, 0, 0, 0, 0, 0, 0, 0, 0, 0, 0,\n",
       "         0, 0, 0, 0, 0, 0, 0, 0, 0, 0, 0, 0, 0, 0, 0, 0, 0, 0, 0, 0, 0, 0,\n",
       "         0, 0, 0, 0, 0, 0, 0, 0, 0, 0, 0, 0, 0, 0, 0, 0, 0, 0, 0, 0, 0, 0,\n",
       "         0, 0, 0, 0, 0, 0, 0, 0, 0, 0, 0, 0, 0, 0, 0, 0, 0, 0, 0, 0, 0, 0,\n",
       "         0, 0, 0, 0, 0, 0, 0, 0, 0, 0, 0, 0, 0, 0, 0, 0, 0, 0, 0, 0, 0, 0,\n",
       "         0, 0, 0, 0, 0, 0, 0, 0, 0, 0, 0, 0, 0, 0, 0, 0, 0, 0, 0, 0, 0, 0,\n",
       "         0, 0, 0, 0, 0, 0, 0, 0, 0, 0, 0, 0, 0, 0, 0, 0, 0, 0, 0, 0, 0, 0,\n",
       "         0, 0, 0, 0, 0, 0, 0, 0, 0, 0, 0, 0, 0, 0, 0, 0, 0, 0, 0, 0, 0, 0,\n",
       "         0, 0, 0, 0, 0, 0, 0, 0, 0, 0, 0, 0, 0, 0, 0, 0, 0, 0, 0, 0, 0, 0,\n",
       "         0, 0, 0, 0, 0, 0, 0, 0, 0, 0, 0, 0, 0, 0, 0, 0, 0, 0, 0, 0, 0, 0,\n",
       "         0, 0, 0, 0, 0, 0, 0, 0, 0, 0, 0, 0, 0, 0, 0, 0, 0, 0, 0, 0, 0, 0,\n",
       "         0, 0, 0, 0, 0, 0, 0, 0, 0, 0, 0, 0, 0, 0, 0, 0, 0, 0, 0, 0, 0, 0,\n",
       "         0, 0, 0, 0, 0, 0, 0, 0, 0, 0, 0, 0, 0, 0, 0, 0, 0, 0, 0, 0, 0, 0,\n",
       "         0, 0, 0, 0, 0, 0, 0, 0, 0, 0, 0, 0, 0, 0, 0, 0, 0, 0, 0, 0, 0, 0,\n",
       "         0, 0, 0, 0, 0, 0, 0, 0, 0, 0, 0, 0, 0, 0, 0, 0, 0, 0, 0, 0, 0, 0,\n",
       "         0, 0, 0, 0, 0, 0, 0, 0, 0, 0, 0, 0, 0, 0, 0, 0, 0, 0, 0, 0, 0, 0,\n",
       "         0, 0, 0, 0, 0, 0, 0, 0, 0, 0, 0, 0, 0, 0, 0, 0, 0, 0, 0, 0, 0, 0,\n",
       "         0], dtype=int32),\n",
       "  array([1, 1, 1, 1, 1, 1, 1, 1, 1, 2, 2, 2, 2, 3, 3, 3, 3, 3, 3, 3, 3, 3,\n",
       "         3, 3, 3, 3, 3, 3, 3, 3, 3, 3, 3, 3, 3, 3, 3, 3, 3, 3, 3, 3, 3, 3,\n",
       "         3, 3, 3, 3, 3, 3, 3, 3, 3, 3, 3, 3, 3, 3, 3, 3, 3, 3, 3, 3, 4, 4,\n",
       "         4, 4, 4, 4, 4, 4, 4, 4, 4, 4, 4, 4, 4, 4, 4, 4, 4, 4, 4, 4, 4, 4,\n",
       "         4, 4, 4, 4, 4, 4, 4, 4, 4, 4, 4, 4, 4, 4, 4, 4, 4, 5, 5, 5, 5, 5,\n",
       "         5, 5, 5, 5], dtype=int32)]}"
      ]
     },
     "execution_count": 11,
     "metadata": {},
     "output_type": "execute_result"
    }
   ],
   "source": [
    "mesh.cell_data"
   ]
  },
  {
   "cell_type": "code",
   "execution_count": 12,
   "metadata": {},
   "outputs": [
    {
     "data": {
      "text/plain": [
       "{'su2:tag': {'quad': array([0, 0, 0, 0, 0, 0, 0, 0, 0, 0, 0, 0, 0, 0, 0, 0, 0, 0, 0, 0, 0, 0,\n",
       "         0, 0, 0, 0, 0, 0, 0, 0, 0, 0, 0, 0, 0, 0, 0, 0, 0, 0, 0, 0, 0, 0,\n",
       "         0, 0, 0, 0, 0, 0, 0, 0, 0, 0, 0, 0, 0, 0, 0, 0, 0, 0, 0, 0, 0, 0,\n",
       "         0, 0, 0, 0, 0, 0, 0, 0, 0, 0, 0, 0, 0, 0, 0, 0, 0, 0, 0, 0, 0, 0,\n",
       "         0, 0, 0, 0, 0, 0, 0, 0, 0, 0, 0, 0, 0, 0, 0, 0, 0, 0, 0, 0, 0, 0,\n",
       "         0, 0, 0, 0, 0, 0, 0, 0, 0, 0, 0, 0, 0, 0, 0, 0, 0, 0, 0, 0, 0, 0,\n",
       "         0, 0, 0, 0, 0, 0, 0, 0, 0, 0, 0, 0, 0, 0, 0, 0, 0, 0, 0, 0, 0, 0,\n",
       "         0, 0, 0, 0, 0, 0, 0, 0, 0, 0, 0, 0, 0, 0, 0, 0, 0, 0, 0, 0, 0, 0,\n",
       "         0, 0, 0, 0, 0, 0, 0, 0, 0, 0, 0, 0, 0, 0, 0, 0, 0, 0, 0, 0, 0, 0,\n",
       "         0, 0, 0, 0, 0, 0, 0, 0, 0, 0, 0, 0, 0, 0, 0, 0, 0, 0, 0, 0, 0, 0,\n",
       "         0, 0, 0, 0, 0, 0, 0, 0, 0, 0, 0, 0, 0, 0, 0, 0, 0, 0, 0, 0, 0, 0,\n",
       "         0, 0, 0, 0, 0, 0, 0, 0, 0, 0, 0, 0, 0, 0, 0, 0, 0, 0, 0, 0, 0, 0,\n",
       "         0, 0, 0, 0, 0, 0, 0, 0, 0, 0, 0, 0, 0, 0, 0, 0, 0, 0, 0, 0, 0, 0,\n",
       "         0, 0, 0, 0, 0, 0, 0, 0, 0, 0, 0, 0, 0, 0, 0, 0, 0, 0, 0, 0, 0, 0,\n",
       "         0, 0, 0, 0, 0, 0, 0, 0, 0, 0, 0, 0, 0, 0, 0, 0, 0, 0, 0, 0, 0, 0,\n",
       "         0, 0, 0, 0, 0, 0, 0, 0, 0, 0, 0, 0, 0, 0, 0, 0, 0, 0, 0, 0, 0, 0,\n",
       "         0, 0, 0, 0, 0, 0, 0, 0, 0, 0, 0, 0, 0, 0, 0, 0, 0, 0, 0, 0, 0, 0,\n",
       "         0, 0, 0, 0, 0, 0, 0, 0, 0, 0, 0, 0, 0, 0, 0, 0, 0, 0, 0, 0, 0, 0,\n",
       "         0], dtype=int32),\n",
       "  'line': array([1, 1, 1, 1, 1, 1, 1, 1, 1, 2, 2, 2, 2, 3, 3, 3, 3, 3, 3, 3, 3, 3,\n",
       "         3, 3, 3, 3, 3, 3, 3, 3, 3, 3, 3, 3, 3, 3, 3, 3, 3, 3, 3, 3, 3, 3,\n",
       "         3, 3, 3, 3, 3, 3, 3, 3, 3, 3, 3, 3, 3, 3, 3, 3, 3, 3, 3, 3, 4, 4,\n",
       "         4, 4, 4, 4, 4, 4, 4, 4, 4, 4, 4, 4, 4, 4, 4, 4, 4, 4, 4, 4, 4, 4,\n",
       "         4, 4, 4, 4, 4, 4, 4, 4, 4, 4, 4, 4, 4, 4, 4, 4, 4, 5, 5, 5, 5, 5,\n",
       "         5, 5, 5, 5], dtype=int32)}}"
      ]
     },
     "execution_count": 12,
     "metadata": {},
     "output_type": "execute_result"
    }
   ],
   "source": [
    "mesh.cell_data_dict"
   ]
  },
  {
   "cell_type": "code",
   "execution_count": 30,
   "metadata": {},
   "outputs": [
    {
     "data": {
      "text/plain": [
       "{}"
      ]
     },
     "execution_count": 30,
     "metadata": {},
     "output_type": "execute_result"
    }
   ],
   "source": [
    "mesh.cell_sets"
   ]
  },
  {
   "cell_type": "code",
   "execution_count": 31,
   "metadata": {},
   "outputs": [
    {
     "data": {
      "text/plain": [
       "{}"
      ]
     },
     "execution_count": 31,
     "metadata": {},
     "output_type": "execute_result"
    }
   ],
   "source": [
    "mesh.cell_sets_dict"
   ]
  },
  {
   "cell_type": "code",
   "execution_count": 32,
   "metadata": {},
   "outputs": [
    {
     "data": {
      "text/plain": [
       "{}"
      ]
     },
     "execution_count": 32,
     "metadata": {},
     "output_type": "execute_result"
    }
   ],
   "source": [
    "mesh.field_data"
   ]
  },
  {
   "cell_type": "code",
   "execution_count": 33,
   "metadata": {},
   "outputs": [
    {
     "data": {
      "text/plain": [
       "<bound method Mesh.get_cell_data of <meshio mesh object>\n",
       "  Number of points: 1420\n",
       "  Number of cells:\n",
       "    quad: 1269\n",
       "    line: 291\n",
       "  Cell data: su2:tag>"
      ]
     },
     "execution_count": 33,
     "metadata": {},
     "output_type": "execute_result"
    }
   ],
   "source": [
    "mesh.get_cell_data"
   ]
  },
  {
   "cell_type": "code",
   "execution_count": 34,
   "metadata": {},
   "outputs": [
    {
     "data": {
      "text/plain": [
       "<bound method Mesh.get_cells_type of <meshio mesh object>\n",
       "  Number of points: 1420\n",
       "  Number of cells:\n",
       "    quad: 1269\n",
       "    line: 291\n",
       "  Cell data: su2:tag>"
      ]
     },
     "execution_count": 34,
     "metadata": {},
     "output_type": "execute_result"
    }
   ],
   "source": [
    "mesh.get_cells_type"
   ]
  },
  {
   "cell_type": "code",
   "execution_count": 35,
   "metadata": {},
   "outputs": [],
   "source": [
    "mesh.info"
   ]
  },
  {
   "cell_type": "code",
   "execution_count": 36,
   "metadata": {},
   "outputs": [
    {
     "data": {
      "text/plain": [
       "{}"
      ]
     },
     "execution_count": 36,
     "metadata": {},
     "output_type": "execute_result"
    }
   ],
   "source": [
    "mesh.point_data"
   ]
  },
  {
   "cell_type": "code",
   "execution_count": 37,
   "metadata": {},
   "outputs": [
    {
     "data": {
      "text/plain": [
       "{}"
      ]
     },
     "execution_count": 37,
     "metadata": {},
     "output_type": "execute_result"
    }
   ],
   "source": [
    "mesh.point_sets"
   ]
  },
  {
   "cell_type": "code",
   "execution_count": 13,
   "metadata": {},
   "outputs": [
    {
     "data": {
      "text/plain": [
       "[<meshio CellBlock, type: quad, num cells: 397>,\n",
       " <meshio CellBlock, type: line, num cells: 114>]"
      ]
     },
     "execution_count": 13,
     "metadata": {},
     "output_type": "execute_result"
    }
   ],
   "source": [
    "mesh.cells"
   ]
  },
  {
   "cell_type": "code",
   "execution_count": 14,
   "metadata": {},
   "outputs": [
    {
     "data": {
      "text/plain": [
       "'line'"
      ]
     },
     "execution_count": 14,
     "metadata": {},
     "output_type": "execute_result"
    }
   ],
   "source": [
    "mesh.cells[1].type"
   ]
  },
  {
   "cell_type": "code",
   "execution_count": 3,
   "metadata": {},
   "outputs": [
    {
     "name": "stdout",
     "output_type": "stream",
     "text": [
      "[[0 0]\n",
      " [1 0]\n",
      " [1 1]\n",
      " [0 1]]\n"
     ]
    },
    {
     "data": {
      "image/png": "[encoded data removed]",
      "text/plain": [
       "<Figure size 432x216 with 2 Axes>"
      ]
     },
     "metadata": {
      "needs_background": "light"
     },
     "output_type": "display_data"
    }
   ],
   "source": [
    "import matplotlib.pyplot as plt\n",
    "import numpy as np\n",
    "\n",
    "import triangle as tr\n",
    "pointsarray = np.array(((0, 0), (1, 0), (1, 1), (0, 1)))\n",
    "print(pointsarray)\n",
    "A = dict(vertices=pointsarray)\n",
    "B = tr.triangulate(A)\n",
    "tr.compare(plt, A, B)\n",
    "plt.show()\n"
   ]
  },
  {
   "cell_type": "code",
   "execution_count": 144,
   "metadata": {},
   "outputs": [
    {
     "name": "stdout",
     "output_type": "stream",
     "text": [
      "['__class__', '__contains__', '__delattr__', '__delitem__', '__dir__', '__doc__', '__eq__', '__format__', '__ge__', '__getattribute__', '__getitem__', '__gt__', '__hash__', '__init__', '__init_subclass__', '__iter__', '__le__', '__len__', '__lt__', '__ne__', '__new__', '__reduce__', '__reduce_ex__', '__repr__', '__reversed__', '__setattr__', '__setitem__', '__sizeof__', '__str__', '__subclasshook__', 'clear', 'copy', 'fromkeys', 'get', 'items', 'keys', 'pop', 'popitem', 'setdefault', 'update', 'values']\n",
      "{'vertices': array([[0, 0],\n",
      "       [1, 0],\n",
      "       [1, 1],\n",
      "       [0, 1]])}\n"
     ]
    }
   ],
   "source": [
    "print(dir(A))\n",
    "print(A)"
   ]
  },
  {
   "cell_type": "code",
   "execution_count": 54,
   "metadata": {},
   "outputs": [
    {
     "data": {
      "text/plain": [
       "582"
      ]
     },
     "execution_count": 54,
     "metadata": {},
     "output_type": "execute_result"
    }
   ],
   "source": [
    "mesh.cells[1].data.size"
   ]
  },
  {
   "cell_type": "code",
   "execution_count": 16,
   "metadata": {},
   "outputs": [
    {
     "name": "stderr",
     "output_type": "stream",
     "text": [
      "WARNING:root:meshio does not support tags of string type.\n",
      "    Surface tag  inlet_air will be replaced by 1\n",
      "WARNING:root:meshio does not support tags of string type.\n",
      "    Surface tag  inlet_gas will be replaced by 2\n",
      "WARNING:root:meshio does not support tags of string type.\n",
      "    Surface tag  wall will be replaced by 3\n",
      "WARNING:root:meshio does not support tags of string type.\n",
      "    Surface tag  symmetry will be replaced by 4\n",
      "WARNING:root:meshio does not support tags of string type.\n",
      "    Surface tag  outlet will be replaced by 5\n"
     ]
    },
    {
     "name": "stdout",
     "output_type": "stream",
     "text": [
      "size =  228\n"
     ]
    }
   ],
   "source": [
    "mesh = meshio.read(\"/home/nijso/venturi_coarse.su2\")\n",
    "\n",
    "SIZE = mesh.cells[1].data.size\n",
    "print(\"size = \",SIZE)"
   ]
  },
  {
   "cell_type": "code",
   "execution_count": 18,
   "metadata": {},
   "outputs": [
    {
     "name": "stdout",
     "output_type": "stream",
     "text": [
      "[  0   1   2   3   4   5   6   7   8   9  10  11  12  13  14  15  16  17\n",
      "  18  19  20  21  22  23  24  25  26  27  28  29  30  31  32  33  34  35\n",
      "  36  37  38  39  40  41  42  43  44  45  46  47  48  49  50  51  52  53\n",
      "  54  55  56  60  61  62  63  64  65  66  67  68  69  70  71  72  73  74\n",
      "  75  76  77  78  79  80  81  82  83  84  85  86  87  88  89  90  91  92\n",
      "  93 118 119 120 121 122 123 124 125 126 127 128 129 130 131 132 133 134\n",
      " 135 136 137 138 139 140]\n"
     ]
    }
   ],
   "source": [
    "linedata = mesh.cells[1].data\n",
    "uniquepoints = print(np.unique(linedata.flatten()))\n",
    "#unique = np.unique(array, axis=0)"
   ]
  },
  {
   "cell_type": "code",
   "execution_count": 19,
   "metadata": {},
   "outputs": [
    {
     "name": "stdout",
     "output_type": "stream",
     "text": [
      "[]\n"
     ]
    }
   ],
   "source": [
    "boundaryArray = np.empty((0,2), float)\n",
    "print(boundaryArray)"
   ]
  },
  {
   "cell_type": "code",
   "execution_count": 20,
   "metadata": {},
   "outputs": [
    {
     "name": "stdout",
     "output_type": "stream",
     "text": [
      "[[0.    0.05 ]\n",
      " [0.35  0.025]]\n"
     ]
    }
   ],
   "source": [
    "boundaryArray = np.append(boundaryArray, np.array([mesh.points[2]]),axis=0)\n",
    "boundaryArray = np.append(boundaryArray, np.array([mesh.points[4]]),axis=0)\n",
    "print(boundaryArray)"
   ]
  },
  {
   "cell_type": "code",
   "execution_count": 21,
   "metadata": {},
   "outputs": [
    {
     "name": "stdout",
     "output_type": "stream",
     "text": [
      "unique points on the edge =  [  0   1   2   3   4   5   6   7   8   9  10  11  12  13  14  15  16  17\n",
      "  18  19  20  21  22  23  24  25  26  27  28  29  30  31  32  33  34  35\n",
      "  36  37  38  39  40  41  42  43  44  45  46  47  48  49  50  51  52  53\n",
      "  54  55  56  60  61  62  63  64  65  66  67  68  69  70  71  72  73  74\n",
      "  75  76  77  78  79  80  81  82  83  84  85  86  87  88  89  90  91  92\n",
      "  93 118 119 120 121 122 123 124 125 126 127 128 129 130 131 132 133 134\n",
      " 135 136 137 138 139 140]\n",
      "[]\n"
     ]
    }
   ],
   "source": [
    "# put all the line segments into linedata\n",
    "linedata = mesh.cells[1].data\n",
    "# get all unique points on the boundary\n",
    "uniquepoints = np.unique(linedata.flatten())\n",
    "print(\"unique points on the edge = \",uniquepoints)\n",
    "\n",
    "boundaryArray = np.empty((0,2), float)\n",
    "print(boundaryArray)\n",
    "\n",
    "for l in uniquepoints:\n",
    "    #print(l, mesh.points[l])\n",
    "    #boundaryArray = np.append(boundaryArray,[(mesh.points[l[0]], mesh.points[l[1]])],axis=0)\n",
    "    boundaryArray = np.append(boundaryArray,np.array([mesh.points[l]]),axis=0)\n",
    "#print(boundaryArray)"
   ]
  },
  {
   "cell_type": "code",
   "execution_count": 168,
   "metadata": {},
   "outputs": [
    {
     "name": "stdout",
     "output_type": "stream",
     "text": [
      "{'vertices': array([[0.        , 0.        ],\n",
      "       [1.        , 0.        ],\n",
      "       [0.        , 0.05      ],\n",
      "       [0.3       , 0.025     ],\n",
      "       [0.35      , 0.025     ],\n",
      "       [1.        , 0.1       ],\n",
      "       [0.35      , 0.        ],\n",
      "       [0.3       , 0.        ],\n",
      "       [0.32      , 0.05      ],\n",
      "       [0.3       , 0.05      ],\n",
      "       [0.32      , 0.025     ],\n",
      "       [0.32      , 0.        ],\n",
      "       [0.00769231, 0.        ],\n",
      "       [0.01538462, 0.        ],\n",
      "       [0.02307692, 0.        ],\n",
      "       [0.03076923, 0.        ],\n",
      "       [0.03846154, 0.        ],\n",
      "       [0.04615385, 0.        ],\n",
      "       [0.05384615, 0.        ],\n",
      "       [0.06153846, 0.        ],\n",
      "       [0.06923077, 0.        ],\n",
      "       [0.07692308, 0.        ],\n",
      "       [0.08461538, 0.        ],\n",
      "       [0.09230769, 0.        ],\n",
      "       [0.1       , 0.        ],\n",
      "       [0.10769231, 0.        ],\n",
      "       [0.11538462, 0.        ],\n",
      "       [0.12307692, 0.        ],\n",
      "       [0.13076923, 0.        ],\n",
      "       [0.13846154, 0.        ],\n",
      "       [0.14615385, 0.        ],\n",
      "       [0.15384615, 0.        ],\n",
      "       [0.16153846, 0.        ],\n",
      "       [0.16923077, 0.        ],\n",
      "       [0.17692308, 0.        ],\n",
      "       [0.18461538, 0.        ],\n",
      "       [0.19230769, 0.        ],\n",
      "       [0.2       , 0.        ],\n",
      "       [0.20769231, 0.        ],\n",
      "       [0.21538462, 0.        ],\n",
      "       [0.22307692, 0.        ],\n",
      "       [0.23076923, 0.        ],\n",
      "       [0.23846154, 0.        ],\n",
      "       [0.24615385, 0.        ],\n",
      "       [0.25384615, 0.        ],\n",
      "       [0.26153846, 0.        ],\n",
      "       [0.26923077, 0.        ],\n",
      "       [0.27692308, 0.        ],\n",
      "       [0.28461538, 0.        ],\n",
      "       [0.29230769, 0.        ],\n",
      "       [0.30222222, 0.        ],\n",
      "       [0.30444444, 0.        ],\n",
      "       [0.30666667, 0.        ],\n",
      "       [0.30888889, 0.        ],\n",
      "       [0.31111111, 0.        ],\n",
      "       [0.31333333, 0.        ],\n",
      "       [0.31555556, 0.        ],\n",
      "       [0.31777778, 0.        ],\n",
      "       [0.32157895, 0.        ],\n",
      "       [0.32315789, 0.        ],\n",
      "       [0.32473684, 0.        ],\n",
      "       [0.32631579, 0.        ],\n",
      "       [0.32789474, 0.        ],\n",
      "       [0.32947368, 0.        ],\n",
      "       [0.33105263, 0.        ],\n",
      "       [0.33263158, 0.        ],\n",
      "       [0.33421053, 0.        ],\n",
      "       [0.33578947, 0.        ],\n",
      "       [0.33736842, 0.        ],\n",
      "       [0.33894737, 0.        ],\n",
      "       [0.34052632, 0.        ],\n",
      "       [0.34210526, 0.        ],\n",
      "       [0.34368421, 0.        ],\n",
      "       [0.34526316, 0.        ],\n",
      "       [0.34684211, 0.        ],\n",
      "       [0.34842105, 0.        ],\n",
      "       [0.36101695, 0.        ],\n",
      "       [0.3720339 , 0.        ],\n",
      "       [0.38305085, 0.        ],\n",
      "       [0.3940678 , 0.        ],\n",
      "       [0.40508475, 0.        ],\n",
      "       [0.41610169, 0.        ],\n",
      "       [0.42711864, 0.        ],\n",
      "       [0.43813559, 0.        ],\n",
      "       [0.44915254, 0.        ],\n",
      "       [0.46016949, 0.        ],\n",
      "       [0.47118644, 0.        ],\n",
      "       [0.48220339, 0.        ],\n",
      "       [0.49322034, 0.        ],\n",
      "       [0.50423729, 0.        ],\n",
      "       [0.51525424, 0.        ],\n",
      "       [0.52627119, 0.        ],\n",
      "       [0.53728814, 0.        ],\n",
      "       [0.54830508, 0.        ],\n",
      "       [0.55932203, 0.        ],\n",
      "       [0.57033898, 0.        ],\n",
      "       [0.58135593, 0.        ],\n",
      "       [0.59237288, 0.        ],\n",
      "       [0.60338983, 0.        ],\n",
      "       [0.61440678, 0.        ],\n",
      "       [0.62542373, 0.        ],\n",
      "       [0.63644068, 0.        ],\n",
      "       [0.64745763, 0.        ],\n",
      "       [0.65847458, 0.        ],\n",
      "       [0.66949153, 0.        ],\n",
      "       [0.68050847, 0.        ],\n",
      "       [0.69152542, 0.        ],\n",
      "       [0.70254237, 0.        ],\n",
      "       [0.71355932, 0.        ],\n",
      "       [0.72457627, 0.        ],\n",
      "       [0.73559322, 0.        ],\n",
      "       [0.74661017, 0.        ],\n",
      "       [0.75762712, 0.        ],\n",
      "       [0.76864407, 0.        ],\n",
      "       [0.77966102, 0.        ],\n",
      "       [0.79067797, 0.        ],\n",
      "       [0.80169492, 0.        ],\n",
      "       [0.81271186, 0.        ],\n",
      "       [0.82372881, 0.        ],\n",
      "       [0.83474576, 0.        ],\n",
      "       [0.84576271, 0.        ],\n",
      "       [0.85677966, 0.        ],\n",
      "       [0.86779661, 0.        ],\n",
      "       [0.87881356, 0.        ],\n",
      "       [0.88983051, 0.        ],\n",
      "       [0.90084746, 0.        ],\n",
      "       [0.91186441, 0.        ],\n",
      "       [0.92288136, 0.        ],\n",
      "       [0.93389831, 0.        ],\n",
      "       [0.94491525, 0.        ],\n",
      "       [0.9559322 , 0.        ],\n",
      "       [0.96694915, 0.        ],\n",
      "       [0.9779661 , 0.        ],\n",
      "       [0.98898305, 0.        ],\n",
      "       [0.00769231, 0.04935897],\n",
      "       [0.01538462, 0.04871795],\n",
      "       [0.02307692, 0.04807692],\n",
      "       [0.03076923, 0.0474359 ],\n",
      "       [0.03846154, 0.04679487],\n",
      "       [0.04615385, 0.04615385],\n",
      "       [0.05384615, 0.04551282],\n",
      "       [0.06153846, 0.04487179],\n",
      "       [0.06923077, 0.04423077],\n",
      "       [0.07692308, 0.04358974],\n",
      "       [0.08461538, 0.04294872],\n",
      "       [0.09230769, 0.04230769],\n",
      "       [0.1       , 0.04166667],\n",
      "       [0.10769231, 0.04102564],\n",
      "       [0.11538462, 0.04038462],\n",
      "       [0.12307692, 0.03974359],\n",
      "       [0.13076923, 0.03910256],\n",
      "       [0.13846154, 0.03846154],\n",
      "       [0.14615385, 0.03782051],\n",
      "       [0.15384615, 0.03717949],\n",
      "       [0.16153846, 0.03653846],\n",
      "       [0.16923077, 0.03589744],\n",
      "       [0.17692308, 0.03525641],\n",
      "       [0.18461538, 0.03461538],\n",
      "       [0.19230769, 0.03397436],\n",
      "       [0.2       , 0.03333333],\n",
      "       [0.20769231, 0.03269231],\n",
      "       [0.21538462, 0.03205128],\n",
      "       [0.22307692, 0.03141026],\n",
      "       [0.23076923, 0.03076923],\n",
      "       [0.23846154, 0.03012821],\n",
      "       [0.24615385, 0.02948718],\n",
      "       [0.25384615, 0.02884615],\n",
      "       [0.26153846, 0.02820513],\n",
      "       [0.26923077, 0.0275641 ],\n",
      "       [0.27692308, 0.02692308],\n",
      "       [0.28461538, 0.02628205],\n",
      "       [0.29230769, 0.02564103],\n",
      "       [0.32157895, 0.025     ],\n",
      "       [0.32315789, 0.025     ],\n",
      "       [0.32473684, 0.025     ],\n",
      "       [0.32631579, 0.025     ],\n",
      "       [0.32789474, 0.025     ],\n",
      "       [0.32947368, 0.025     ],\n",
      "       [0.33105263, 0.025     ],\n",
      "       [0.33263158, 0.025     ],\n",
      "       [0.33421053, 0.025     ],\n",
      "       [0.33578947, 0.025     ],\n",
      "       [0.33736842, 0.025     ],\n",
      "       [0.33894737, 0.025     ],\n",
      "       [0.34052632, 0.025     ],\n",
      "       [0.34210526, 0.025     ],\n",
      "       [0.34368421, 0.025     ],\n",
      "       [0.34526316, 0.025     ],\n",
      "       [0.34684211, 0.025     ],\n",
      "       [0.34842105, 0.025     ],\n",
      "       [0.36101695, 0.02627119],\n",
      "       [0.3720339 , 0.02754237],\n",
      "       [0.38305085, 0.02881356],\n",
      "       [0.3940678 , 0.03008475],\n",
      "       [0.40508475, 0.03135593],\n",
      "       [0.41610169, 0.03262712],\n",
      "       [0.42711864, 0.03389831],\n",
      "       [0.43813559, 0.03516949],\n",
      "       [0.44915254, 0.03644068],\n",
      "       [0.46016949, 0.03771186],\n",
      "       [0.47118644, 0.03898305],\n",
      "       [0.48220339, 0.04025424],\n",
      "       [0.49322034, 0.04152542],\n",
      "       [0.50423729, 0.04279661],\n",
      "       [0.51525424, 0.0440678 ],\n",
      "       [0.52627119, 0.04533898],\n",
      "       [0.53728814, 0.04661017],\n",
      "       [0.54830508, 0.04788136],\n",
      "       [0.55932203, 0.04915254],\n",
      "       [0.57033898, 0.05042373],\n",
      "       [0.58135593, 0.05169492],\n",
      "       [0.59237288, 0.0529661 ],\n",
      "       [0.60338983, 0.05423729],\n",
      "       [0.61440678, 0.05550847],\n",
      "       [0.62542373, 0.05677966],\n",
      "       [0.63644068, 0.05805085],\n",
      "       [0.64745763, 0.05932203],\n",
      "       [0.65847458, 0.06059322],\n",
      "       [0.66949153, 0.06186441],\n",
      "       [0.68050847, 0.06313559],\n",
      "       [0.69152542, 0.06440678],\n",
      "       [0.70254237, 0.06567797],\n",
      "       [0.71355932, 0.06694915],\n",
      "       [0.72457627, 0.06822034],\n",
      "       [0.73559322, 0.06949153],\n",
      "       [0.74661017, 0.07076271],\n",
      "       [0.75762712, 0.0720339 ],\n",
      "       [0.76864407, 0.07330508],\n",
      "       [0.77966102, 0.07457627],\n",
      "       [0.79067797, 0.07584746],\n",
      "       [0.80169492, 0.07711864],\n",
      "       [0.81271186, 0.07838983],\n",
      "       [0.82372881, 0.07966102],\n",
      "       [0.83474576, 0.0809322 ],\n",
      "       [0.84576271, 0.08220339],\n",
      "       [0.85677966, 0.08347458],\n",
      "       [0.86779661, 0.08474576],\n",
      "       [0.87881356, 0.08601695],\n",
      "       [0.88983051, 0.08728814],\n",
      "       [0.90084746, 0.08855932],\n",
      "       [0.91186441, 0.08983051],\n",
      "       [0.92288136, 0.09110169],\n",
      "       [0.93389831, 0.09237288],\n",
      "       [0.94491525, 0.09364407],\n",
      "       [0.9559322 , 0.09491525],\n",
      "       [0.96694915, 0.09618644],\n",
      "       [0.9779661 , 0.09745763],\n",
      "       [0.98898305, 0.09872881],\n",
      "       [0.        , 0.04444444],\n",
      "       [0.        , 0.03888889],\n",
      "       [0.        , 0.03333333],\n",
      "       [0.        , 0.02777778],\n",
      "       [0.        , 0.02222222],\n",
      "       [0.        , 0.01666667],\n",
      "       [0.        , 0.01111111],\n",
      "       [0.        , 0.00555556],\n",
      "       [1.        , 0.08888889],\n",
      "       [1.        , 0.07777778],\n",
      "       [1.        , 0.06666667],\n",
      "       [1.        , 0.05555556],\n",
      "       [1.        , 0.04444444],\n",
      "       [1.        , 0.03333333],\n",
      "       [1.        , 0.02222222],\n",
      "       [1.        , 0.01111111],\n",
      "       [0.3       , 0.04833333],\n",
      "       [0.3       , 0.04666667],\n",
      "       [0.3       , 0.045     ],\n",
      "       [0.3       , 0.04333333],\n",
      "       [0.3       , 0.04166667],\n",
      "       [0.3       , 0.04      ],\n",
      "       [0.3       , 0.03833333],\n",
      "       [0.3       , 0.03666667],\n",
      "       [0.3       , 0.035     ],\n",
      "       [0.3       , 0.03333333],\n",
      "       [0.3       , 0.03166667],\n",
      "       [0.3       , 0.03      ],\n",
      "       [0.3       , 0.02833333],\n",
      "       [0.3       , 0.02666667],\n",
      "       [0.32      , 0.04833333],\n",
      "       [0.32      , 0.04666667],\n",
      "       [0.32      , 0.045     ],\n",
      "       [0.32      , 0.04333333],\n",
      "       [0.32      , 0.04166667],\n",
      "       [0.32      , 0.04      ],\n",
      "       [0.32      , 0.03833333],\n",
      "       [0.32      , 0.03666667],\n",
      "       [0.32      , 0.035     ],\n",
      "       [0.32      , 0.03333333],\n",
      "       [0.32      , 0.03166667],\n",
      "       [0.32      , 0.03      ],\n",
      "       [0.32      , 0.02833333],\n",
      "       [0.32      , 0.02666667],\n",
      "       [0.30222222, 0.05      ],\n",
      "       [0.30444444, 0.05      ],\n",
      "       [0.30666667, 0.05      ],\n",
      "       [0.30888889, 0.05      ],\n",
      "       [0.31111111, 0.05      ],\n",
      "       [0.31333333, 0.05      ],\n",
      "       [0.31555556, 0.05      ],\n",
      "       [0.31777778, 0.05      ]])}\n"
     ]
    }
   ],
   "source": [
    "AA = dict(vertices=boundaryArray)"
   ]
  },
  {
   "cell_type": "code",
   "execution_count": 173,
   "metadata": {},
   "outputs": [],
   "source": [
    "BB = tr.triangulate(AA,'pc')"
   ]
  },
  {
   "cell_type": "code",
   "execution_count": 176,
   "metadata": {},
   "outputs": [
    {
     "data": {
      "image/png": "[encoded data removed]",
      "text/plain": [
       "<Figure size 1800x2880 with 2 Axes>"
      ]
     },
     "metadata": {
      "needs_background": "light"
     },
     "output_type": "display_data"
    }
   ],
   "source": [
    "#plt.rcParams[\"figure.figsize\"] = (20,3)\n",
    "#plt.figure(figsize=(20,20))\n",
    "tr.compare(plt,AA, BB,figsize=(25,40))\n",
    "plt.show()"
   ]
  },
  {
   "cell_type": "code",
   "execution_count": 82,
   "metadata": {},
   "outputs": [
    {
     "data": {
      "text/plain": [
       "{'vertices': array([[0.        , 0.05      ],\n",
       "        [0.        , 0.04444444],\n",
       "        [0.        , 0.04444444],\n",
       "        ...,\n",
       "        [0.98898305, 0.        ],\n",
       "        [0.98898305, 0.        ],\n",
       "        [1.        , 0.        ]]),\n",
       " 'vertex_markers': array([[0],\n",
       "        [0],\n",
       "        [1],\n",
       "        ...,\n",
       "        [0],\n",
       "        [1],\n",
       "        [0]], dtype=int32),\n",
       " 'triangles': array([[ 17, 913,  16],\n",
       "        [916, 918, 594],\n",
       "        [913, 916,  13],\n",
       "        ...,\n",
       "        [795, 211, 526],\n",
       "        [710, 899, 125],\n",
       "        [438, 125, 124]], dtype=int32)}"
      ]
     },
     "execution_count": 82,
     "metadata": {},
     "output_type": "execute_result"
    }
   ],
   "source": [
    "BB"
   ]
  },
  {
   "cell_type": "code",
   "execution_count": 88,
   "metadata": {},
   "outputs": [],
   "source": [
    "x,y = boundaryArray.T"
   ]
  },
  {
   "cell_type": "code",
   "execution_count": 89,
   "metadata": {},
   "outputs": [
    {
     "data": {
      "text/plain": [
       "<matplotlib.collections.PathCollection at 0x7fe5b91192e0>"
      ]
     },
     "execution_count": 89,
     "metadata": {},
     "output_type": "execute_result"
    },
    {
     "data": {
      "image/png": "[encoded data removed]",
      "text/plain": [
       "<Figure size 1440x216 with 1 Axes>"
      ]
     },
     "metadata": {
      "needs_background": "light"
     },
     "output_type": "display_data"
    }
   ],
   "source": [
    "plt.scatter(x,y)"
   ]
  },
  {
   "cell_type": "code",
   "execution_count": 90,
   "metadata": {},
   "outputs": [
    {
     "data": {
      "text/plain": [
       "1164"
      ]
     },
     "execution_count": 90,
     "metadata": {},
     "output_type": "execute_result"
    }
   ],
   "source": [
    "len(x)"
   ]
  },
  {
   "cell_type": "code",
   "execution_count": 91,
   "metadata": {},
   "outputs": [
    {
     "data": {
      "text/plain": [
       "array([0.        , 0.        , 0.        , ..., 0.98898305, 0.98898305,\n",
       "       1.        ])"
      ]
     },
     "execution_count": 91,
     "metadata": {},
     "output_type": "execute_result"
    }
   ],
   "source": [
    "x"
   ]
  },
  {
   "cell_type": "code",
   "execution_count": 4,
   "metadata": {},
   "outputs": [
    {
     "data": {
      "image/png": "[encoded data removed]",
      "text/plain": [
       "<Figure size 432x216 with 2 Axes>"
      ]
     },
     "metadata": {
      "needs_background": "light"
     },
     "output_type": "display_data"
    }
   ],
   "source": [
    "\n",
    "face = tr.get_data('face')\n",
    "t = tr.triangulate(face, 'p')\n",
    "\n",
    "tr.compare(plt, face, t)\n",
    "plt.show()"
   ]
  },
  {
   "cell_type": "code",
   "execution_count": 2,
   "metadata": {},
   "outputs": [
    {
     "name": "stdout",
     "output_type": "stream",
     "text": [
      "{'vertices': array([[ 0,  0],\n",
      "       [10,  0],\n",
      "       [10, 10],\n",
      "       [15, 10],\n",
      "       [15, 15],\n",
      "       [ 0, 15],\n",
      "       [ 3,  4],\n",
      "       [ 3,  8],\n",
      "       [ 3, 12],\n",
      "       [ 6,  4],\n",
      "       [ 6,  8],\n",
      "       [ 6, 12],\n",
      "       [10, 12],\n",
      "       [13, 12]]), 'vertex_markers': array([[3],\n",
      "       [3],\n",
      "       [2],\n",
      "       [2],\n",
      "       [2],\n",
      "       [2],\n",
      "       [2],\n",
      "       [2],\n",
      "       [0],\n",
      "       [0],\n",
      "       [0],\n",
      "       [0],\n",
      "       [0],\n",
      "       [0],\n",
      "       [0],\n",
      "       [0]]), 'segments': array([[0, 1],\n",
      "       [1, 2],\n",
      "       [2, 3],\n",
      "       [3, 4],\n",
      "       [4, 5],\n",
      "       [5, 0]]), 'segment_markers': array([[3],\n",
      "       [3],\n",
      "       [2],\n",
      "       [2],\n",
      "       [2],\n",
      "       [2],\n",
      "       [2],\n",
      "       [2]])}\n"
     ]
    }
   ],
   "source": [
    "vertices = np.array([(0,0),(10,0),(10,10),(15,10),(15,15),(0,15),(3,4),(3,8),(3,12),(6,4),(6,8),(6,12),(10,12),(13,12)])\n",
    "vertexMarkers = np.array([([3]),([3]),([2]),([2]),([2]),([2]),([2]),([2]), ([0]),([0]),([0]),([0]), ([0]),([0]),([0]),([0])])\n",
    "segments=np.array([(0,1),(1,2),(2,3),(3,4),(4,5),(5,0)])\n",
    "segmentMarkers = np.array([([3]),([3]),([2]),([2]),([2]),([2]),([2]),([2]) ])\n",
    "mymesh = {\"vertices\":vertices,\"vertex_markers\":vertexMarkers, \"segments\":segments, \"segment_markers\":segmentMarkers }\n",
    "print(mymesh)"
   ]
  },
  {
   "cell_type": "code",
   "execution_count": null,
   "metadata": {},
   "outputs": [],
   "source": [
    "t = tr.triangulate(mymesh, 'p')\n",
    "tr.compare(plt, mymesh, t)\n",
    "plt.show()"
   ]
  },
  {
   "cell_type": "code",
   "execution_count": 5,
   "metadata": {},
   "outputs": [
    {
     "data": {
      "text/plain": [
       "array([0, 0, 0, ..., 5, 5, 5], dtype=int32)"
      ]
     },
     "execution_count": 5,
     "metadata": {},
     "output_type": "execute_result"
    }
   ],
   "source": [
    "np.append(mesh.cell_data['su2:tag'][0], mesh.cell_data['su2:tag'][1],)"
   ]
  },
  {
   "cell_type": "code",
   "execution_count": 2,
   "metadata": {},
   "outputs": [],
   "source": [
    "su2dict=dict(vertices=mesh.points, vertex_markers=np.append(mesh.cell_data['su2:tag'][0],mesh.cell_data['su2:tag'][1]), segments=mesh.cells[1].data, segment_markers=mesh.cell_data['su2:tag'][1])\n",
    "#su2dict.update([np.append(mesh.cell_data['su2:tag'][0],mesh.cell_data['su2:tag'][1])])"
   ]
  },
  {
   "cell_type": "code",
   "execution_count": null,
   "metadata": {},
   "outputs": [],
   "source": [
    "t = tr.triangulate(su2dict, 'p')"
   ]
  },
  {
   "cell_type": "code",
   "execution_count": null,
   "metadata": {},
   "outputs": [],
   "source": [
    "tr.compare(plt, su2dict, t)\n",
    "plt.show()"
   ]
  },
  {
   "cell_type": "code",
   "execution_count": 15,
   "metadata": {},
   "outputs": [
    {
     "name": "stdout",
     "output_type": "stream",
     "text": [
      "{'vertices': array([[0.        , 0.        ],\n",
      "       [1.        , 0.        ],\n",
      "       [0.        , 0.05      ],\n",
      "       ...,\n",
      "       [0.96694915, 0.01068738],\n",
      "       [0.9779661 , 0.01082863],\n",
      "       [0.98898305, 0.01096987]]), 'vertex_markers': array([0, 0, 0, ..., 5, 5, 5], dtype=int32), 'segments': array([[  2, 256],\n",
      "       [256, 257],\n",
      "       [257, 258],\n",
      "       [258, 259],\n",
      "       [259, 260],\n",
      "       [260, 261],\n",
      "       [261, 262],\n",
      "       [262, 263],\n",
      "       [263,   0],\n",
      "       [  9, 324],\n",
      "       [324, 325],\n",
      "       [325, 326],\n",
      "       [326, 327],\n",
      "       [327, 328],\n",
      "       [328, 329],\n",
      "       [329, 330],\n",
      "       [330, 331],\n",
      "       [331,   8],\n",
      "       [  2, 134],\n",
      "       [134, 135],\n",
      "       [135, 136],\n",
      "       [136, 137],\n",
      "       [137, 138],\n",
      "       [138, 139],\n",
      "       [139, 140],\n",
      "       [140, 141],\n",
      "       [141, 142],\n",
      "       [142, 143],\n",
      "       [143, 144],\n",
      "       [144, 145],\n",
      "       [145, 146],\n",
      "       [146, 147],\n",
      "       [147, 148],\n",
      "       [148, 149],\n",
      "       [149, 150],\n",
      "       [150, 151],\n",
      "       [151, 152],\n",
      "       [152, 153],\n",
      "       [153, 154],\n",
      "       [154, 155],\n",
      "       [155, 156],\n",
      "       [156, 157],\n",
      "       [157, 158],\n",
      "       [158, 159],\n",
      "       [159, 160],\n",
      "       [160, 161],\n",
      "       [161, 162],\n",
      "       [162, 163],\n",
      "       [163, 164],\n",
      "       [164, 165],\n",
      "       [165, 166],\n",
      "       [166, 167],\n",
      "       [167, 168],\n",
      "       [168, 169],\n",
      "       [169, 170],\n",
      "       [170, 171],\n",
      "       [171,   3],\n",
      "       [ 10, 180],\n",
      "       [180, 181],\n",
      "       [181, 182],\n",
      "       [182, 183],\n",
      "       [183, 184],\n",
      "       [184, 185],\n",
      "       [185, 186],\n",
      "       [186, 187],\n",
      "       [187, 188],\n",
      "       [188, 189],\n",
      "       [189, 190],\n",
      "       [190, 191],\n",
      "       [191, 192],\n",
      "       [192, 193],\n",
      "       [193, 194],\n",
      "       [194, 195],\n",
      "       [195, 196],\n",
      "       [196, 197],\n",
      "       [197,   4],\n",
      "       [  4, 198],\n",
      "       [198, 199],\n",
      "       [199, 200],\n",
      "       [200, 201],\n",
      "       [201, 202],\n",
      "       [202, 203],\n",
      "       [203, 204],\n",
      "       [204, 205],\n",
      "       [205, 206],\n",
      "       [206, 207],\n",
      "       [207, 208],\n",
      "       [208, 209],\n",
      "       [209, 210],\n",
      "       [210, 211],\n",
      "       [211, 212],\n",
      "       [212, 213],\n",
      "       [213, 214],\n",
      "       [214, 215],\n",
      "       [215, 216],\n",
      "       [216, 217],\n",
      "       [217, 218],\n",
      "       [218, 219],\n",
      "       [219, 220],\n",
      "       [220, 221],\n",
      "       [221, 222],\n",
      "       [222, 223],\n",
      "       [223, 224],\n",
      "       [224, 225],\n",
      "       [225, 226],\n",
      "       [226, 227],\n",
      "       [227, 228],\n",
      "       [228, 229],\n",
      "       [229, 230],\n",
      "       [230, 231],\n",
      "       [231, 232],\n",
      "       [232, 233],\n",
      "       [233, 234],\n",
      "       [234, 235],\n",
      "       [235, 236],\n",
      "       [236, 237],\n",
      "       [237, 238],\n",
      "       [238, 239],\n",
      "       [239, 240],\n",
      "       [240, 241],\n",
      "       [241, 242],\n",
      "       [242, 243],\n",
      "       [243, 244],\n",
      "       [244, 245],\n",
      "       [245, 246],\n",
      "       [246, 247],\n",
      "       [247, 248],\n",
      "       [248, 249],\n",
      "       [249, 250],\n",
      "       [250, 251],\n",
      "       [251, 252],\n",
      "       [252, 253],\n",
      "       [253, 254],\n",
      "       [254, 255],\n",
      "       [255,   5],\n",
      "       [  9, 296],\n",
      "       [296, 297],\n",
      "       [297, 298],\n",
      "       [298, 299],\n",
      "       [299, 300],\n",
      "       [300, 301],\n",
      "       [301, 302],\n",
      "       [302, 303],\n",
      "       [303, 304],\n",
      "       [304, 305],\n",
      "       [305, 306],\n",
      "       [306, 307],\n",
      "       [307, 308],\n",
      "       [308, 309],\n",
      "       [309,   3],\n",
      "       [  8, 310],\n",
      "       [310, 311],\n",
      "       [311, 312],\n",
      "       [312, 313],\n",
      "       [313, 314],\n",
      "       [314, 315],\n",
      "       [315, 316],\n",
      "       [316, 317],\n",
      "       [317, 318],\n",
      "       [318, 319],\n",
      "       [319, 320],\n",
      "       [320, 321],\n",
      "       [321, 322],\n",
      "       [322, 323],\n",
      "       [323,  10],\n",
      "       [  0,  12],\n",
      "       [ 12,  13],\n",
      "       [ 13,  14],\n",
      "       [ 14,  15],\n",
      "       [ 15,  16],\n",
      "       [ 16,  17],\n",
      "       [ 17,  18],\n",
      "       [ 18,  19],\n",
      "       [ 19,  20],\n",
      "       [ 20,  21],\n",
      "       [ 21,  22],\n",
      "       [ 22,  23],\n",
      "       [ 23,  24],\n",
      "       [ 24,  25],\n",
      "       [ 25,  26],\n",
      "       [ 26,  27],\n",
      "       [ 27,  28],\n",
      "       [ 28,  29],\n",
      "       [ 29,  30],\n",
      "       [ 30,  31],\n",
      "       [ 31,  32],\n",
      "       [ 32,  33],\n",
      "       [ 33,  34],\n",
      "       [ 34,  35],\n",
      "       [ 35,  36],\n",
      "       [ 36,  37],\n",
      "       [ 37,  38],\n",
      "       [ 38,  39],\n",
      "       [ 39,  40],\n",
      "       [ 40,  41],\n",
      "       [ 41,  42],\n",
      "       [ 42,  43],\n",
      "       [ 43,  44],\n",
      "       [ 44,  45],\n",
      "       [ 45,  46],\n",
      "       [ 46,  47],\n",
      "       [ 47,  48],\n",
      "       [ 48,  49],\n",
      "       [ 49,   7],\n",
      "       [  7,  50],\n",
      "       [ 50,  51],\n",
      "       [ 51,  52],\n",
      "       [ 52,  53],\n",
      "       [ 53,  54],\n",
      "       [ 54,  55],\n",
      "       [ 55,  56],\n",
      "       [ 56,  57],\n",
      "       [ 57,  11],\n",
      "       [ 11,  58],\n",
      "       [ 58,  59],\n",
      "       [ 59,  60],\n",
      "       [ 60,  61],\n",
      "       [ 61,  62],\n",
      "       [ 62,  63],\n",
      "       [ 63,  64],\n",
      "       [ 64,  65],\n",
      "       [ 65,  66],\n",
      "       [ 66,  67],\n",
      "       [ 67,  68],\n",
      "       [ 68,  69],\n",
      "       [ 69,  70],\n",
      "       [ 70,  71],\n",
      "       [ 71,  72],\n",
      "       [ 72,  73],\n",
      "       [ 73,  74],\n",
      "       [ 74,  75],\n",
      "       [ 75,   6],\n",
      "       [  6,  76],\n",
      "       [ 76,  77],\n",
      "       [ 77,  78],\n",
      "       [ 78,  79],\n",
      "       [ 79,  80],\n",
      "       [ 80,  81],\n",
      "       [ 81,  82],\n",
      "       [ 82,  83],\n",
      "       [ 83,  84],\n",
      "       [ 84,  85],\n",
      "       [ 85,  86],\n",
      "       [ 86,  87],\n",
      "       [ 87,  88],\n",
      "       [ 88,  89],\n",
      "       [ 89,  90],\n",
      "       [ 90,  91],\n",
      "       [ 91,  92],\n",
      "       [ 92,  93],\n",
      "       [ 93,  94],\n",
      "       [ 94,  95],\n",
      "       [ 95,  96],\n",
      "       [ 96,  97],\n",
      "       [ 97,  98],\n",
      "       [ 98,  99],\n",
      "       [ 99, 100],\n",
      "       [100, 101],\n",
      "       [101, 102],\n",
      "       [102, 103],\n",
      "       [103, 104],\n",
      "       [104, 105],\n",
      "       [105, 106],\n",
      "       [106, 107],\n",
      "       [107, 108],\n",
      "       [108, 109],\n",
      "       [109, 110],\n",
      "       [110, 111],\n",
      "       [111, 112],\n",
      "       [112, 113],\n",
      "       [113, 114],\n",
      "       [114, 115],\n",
      "       [115, 116],\n",
      "       [116, 117],\n",
      "       [117, 118],\n",
      "       [118, 119],\n",
      "       [119, 120],\n",
      "       [120, 121],\n",
      "       [121, 122],\n",
      "       [122, 123],\n",
      "       [123, 124],\n",
      "       [124, 125],\n",
      "       [125, 126],\n",
      "       [126, 127],\n",
      "       [127, 128],\n",
      "       [128, 129],\n",
      "       [129, 130],\n",
      "       [130, 131],\n",
      "       [131, 132],\n",
      "       [132, 133],\n",
      "       [133,   1],\n",
      "       [  5, 288],\n",
      "       [288, 289],\n",
      "       [289, 290],\n",
      "       [290, 291],\n",
      "       [291, 292],\n",
      "       [292, 293],\n",
      "       [293, 294],\n",
      "       [294, 295],\n",
      "       [295,   1]]), 'segment_markers': array([1, 1, 1, 1, 1, 1, 1, 1, 1, 2, 2, 2, 2, 2, 2, 2, 2, 2, 3, 3, 3, 3,\n",
      "       3, 3, 3, 3, 3, 3, 3, 3, 3, 3, 3, 3, 3, 3, 3, 3, 3, 3, 3, 3, 3, 3,\n",
      "       3, 3, 3, 3, 3, 3, 3, 3, 3, 3, 3, 3, 3, 3, 3, 3, 3, 3, 3, 3, 3, 3,\n",
      "       3, 3, 3, 3, 3, 3, 3, 3, 3, 3, 3, 3, 3, 3, 3, 3, 3, 3, 3, 3, 3, 3,\n",
      "       3, 3, 3, 3, 3, 3, 3, 3, 3, 3, 3, 3, 3, 3, 3, 3, 3, 3, 3, 3, 3, 3,\n",
      "       3, 3, 3, 3, 3, 3, 3, 3, 3, 3, 3, 3, 3, 3, 3, 3, 3, 3, 3, 3, 3, 3,\n",
      "       3, 3, 3, 3, 3, 3, 3, 3, 3, 3, 3, 3, 3, 3, 3, 3, 3, 3, 3, 3, 3, 3,\n",
      "       3, 3, 3, 3, 3, 3, 3, 3, 3, 3, 3, 4, 4, 4, 4, 4, 4, 4, 4, 4, 4, 4,\n",
      "       4, 4, 4, 4, 4, 4, 4, 4, 4, 4, 4, 4, 4, 4, 4, 4, 4, 4, 4, 4, 4, 4,\n",
      "       4, 4, 4, 4, 4, 4, 4, 4, 4, 4, 4, 4, 4, 4, 4, 4, 4, 4, 4, 4, 4, 4,\n",
      "       4, 4, 4, 4, 4, 4, 4, 4, 4, 4, 4, 4, 4, 4, 4, 4, 4, 4, 4, 4, 4, 4,\n",
      "       4, 4, 4, 4, 4, 4, 4, 4, 4, 4, 4, 4, 4, 4, 4, 4, 4, 4, 4, 4, 4, 4,\n",
      "       4, 4, 4, 4, 4, 4, 4, 4, 4, 4, 4, 4, 4, 4, 4, 4, 4, 4, 4, 4, 4, 4,\n",
      "       4, 4, 4, 4, 4, 5, 5, 5, 5, 5, 5, 5, 5, 5], dtype=int32)}\n"
     ]
    }
   ],
   "source": [
    "print(su2dict)"
   ]
  },
  {
   "cell_type": "code",
   "execution_count": null,
   "metadata": {},
   "outputs": [],
   "source": []
  }
 ],
 "metadata": {
  "kernelspec": {
   "display_name": "Python 3",
   "language": "python",
   "name": "python3"
  },
  "language_info": {
   "codemirror_mode": {
    "name": "ipython",
    "version": 3
   },
   "file_extension": ".py",
   "mimetype": "text/x-python",
   "name": "python",
   "nbconvert_exporter": "python",
   "pygments_lexer": "ipython3",
   "version": "3.8.3"
  }
 },
 "nbformat": 4,
 "nbformat_minor": 4
}
